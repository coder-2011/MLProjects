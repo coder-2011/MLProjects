{
  "nbformat": 4,
  "nbformat_minor": 0,
  "metadata": {
    "colab": {
      "provenance": [],
      "authorship_tag": "ABX9TyPywsTnu9gpw6iPcqL3gvYg",
      "include_colab_link": true
    },
    "kernelspec": {
      "name": "python3",
      "display_name": "Python 3"
    },
    "language_info": {
      "name": "python"
    }
  },
  "cells": [
    {
      "cell_type": "markdown",
      "metadata": {
        "id": "view-in-github",
        "colab_type": "text"
      },
      "source": [
        "<a href=\"https://colab.research.google.com/github/coder-2011/MLProjects/blob/main/RainPredictionModel.ipynb\" target=\"_parent\"><img src=\"https://colab.research.google.com/assets/colab-badge.svg\" alt=\"Open In Colab\"/></a>"
      ]
    },
    {
      "cell_type": "code",
      "execution_count": null,
      "metadata": {
        "id": "C773cEHXB6hX"
      },
      "outputs": [],
      "source": [
        "import numpy as np\n",
        "import torch\n",
        "import matplotlib.pyplot as plt\n",
        "import pandas as pd\n",
        "from sklearn import metrics\n"
      ]
    },
    {
      "cell_type": "code",
      "source": [
        "\n",
        "data_url = \"https://raw.githubusercontent.com/BreakoutMentors/Data-Science-and-Machine-Learning/main/datasets/weatherAUS.csv\"\n",
        "data = pd.read_csv(data_url)\n",
        "data = data.drop(columns=[\"Cloud9am\", \"Cloud3pm\"])\n",
        "data = data.drop(columns=[\"WindGustDir\", \"Location\", \"Date\", \"WindDir9am\", \"WindDir3pm\"])\n",
        "data = data.dropna()\n",
        "num_columns = data.select_dtypes(include=\"number\")\n",
        "\n",
        "def binarize(y):\n",
        "  if y == \"Yes\":\n",
        "    return 1\n",
        "  return 0\n",
        "\n",
        "#print(num_columns)\n",
        "means = num_columns.mean()\n",
        "std = num_columns.std()\n",
        "# print(means)\n",
        "# print(std)\n",
        "num_columns = (num_columns-means)/std\n",
        "for col in num_columns.columns:\n",
        "  data[col] = num_columns[col]\n",
        "\n",
        "\n",
        "data[\"RainToday\"] = data['RainToday'].map(binarize)\n",
        "data[\"RainTomorrow\"] = data[\"RainTomorrow\"].map(binarize)\n",
        "# data['RainTomorrow'].hist()\n",
        "\n",
        "def balance(data):\n",
        "  rainy_days = data.loc[data['RainTomorrow'] == 1]\n",
        "  dry_days = data.loc[data['RainTomorrow'] == 0]\n",
        "  dry_days = dry_days.sample(len(rainy_days))\n",
        "  return pd.concat([dry_days, rainy_days], axis=0).sample(frac=1)\n",
        "\n",
        "data = balance(data)\n",
        "#data['RainTomorrow'].hist()\n",
        "print(data)"
      ],
      "metadata": {
        "colab": {
          "base_uri": "https://localhost:8080/"
        },
        "id": "UFxEZ24uCy_E",
        "outputId": "4a180344-6996-4c9a-e457-f94f675d9ab5"
      },
      "execution_count": null,
      "outputs": [
        {
          "output_type": "stream",
          "name": "stdout",
          "text": [
            "         MinTemp   MaxTemp  Rainfall  Evaporation  Sunshine  WindGustSpeed  \\\n",
            "105336 -0.079572 -0.644932 -0.304787     0.604587 -0.119637       2.114409   \n",
            "83162  -0.547425 -0.316817 -0.304787     0.227947 -0.887699       0.551290   \n",
            "99873   0.403876  0.410743 -0.304787    -0.310110 -1.920609      -0.267486   \n",
            "100219  0.060784 -0.644932 -0.216111     0.873615  0.065757       0.030251   \n",
            "122389  0.013999 -0.345349 -0.304787    -1.224806 -0.834729      -0.118618   \n",
            "...          ...       ...       ...          ...       ...            ...   \n",
            "101076 -0.594210 -0.915984 -0.304787    -0.848167 -1.099578       0.700159   \n",
            "34834   0.887325  0.681794 -0.304787     2.164951  0.807334       2.114409   \n",
            "34841  -0.079572  0.054096 -0.304787     0.066530 -1.311457       1.518935   \n",
            "82909  -1.280394 -1.515150  3.153551    -1.117195 -1.576306       3.007619   \n",
            "73372  -0.937302 -0.359615 -0.304787    -0.363916  0.357091       0.179119   \n",
            "\n",
            "        WindSpeed9am  WindSpeed3pm  Humidity9am  Humidity3pm  Pressure9am  \\\n",
            "105336      4.071279      1.827044     0.539105    -0.000775    -2.152543   \n",
            "83162      -0.935771      1.002661     1.650853     0.344122    -0.222724   \n",
            "99873       0.228660      0.060510     0.539105     1.575896    -1.230203   \n",
            "100219     -0.237112      1.238199     0.274403    -0.000775    -1.187634   \n",
            "122389     -0.702885     -0.763873    -0.043240     1.083186    -0.208534   \n",
            "...              ...           ...          ...          ...          ...   \n",
            "101076      1.043761     -0.763873     0.168522     2.167147    -0.336243   \n",
            "34834       1.858862      1.591506    -2.478498    -2.168697    -1.386291   \n",
            "34841       1.742419      2.298120    -1.790273     1.970063    -1.613329   \n",
            "82909       2.790406     -0.292797     1.015568     1.772980    -2.393770   \n",
            "73372      -0.004226     -0.057259     0.697926    -0.394942     0.146212   \n",
            "\n",
            "        Pressure3pm   Temp9am   Temp3pm  RainToday  RainTomorrow  \n",
            "105336    -1.712575 -0.547200 -0.541452          0             1  \n",
            "83162     -0.182984 -0.501651 -0.221249          0             1  \n",
            "99873     -1.440965  0.545999 -0.090257          0             1  \n",
            "100219    -0.811975 -0.213167 -0.570562          0             0  \n",
            "122389    -0.254460 -0.243534 -0.192140          0             1  \n",
            "...             ...       ...       ...        ...           ...  \n",
            "101076    -0.125803 -0.941967 -1.123640          0             1  \n",
            "34834     -1.398079  0.804115  0.797579          0             0  \n",
            "34841     -1.026403  0.758565 -1.181858          0             1  \n",
            "82909     -1.312308 -0.957150 -1.371069          1             1  \n",
            "73372     -0.254460 -0.866050 -0.192140          0             1  \n",
            "\n",
            "[28860 rows x 16 columns]\n"
          ]
        }
      ]
    },
    {
      "cell_type": "code",
      "source": [],
      "metadata": {
        "id": "gCdxsny0nNyK"
      },
      "execution_count": null,
      "outputs": []
    },
    {
      "cell_type": "code",
      "source": [
        "\n",
        "x_data = torch.tensor(data.drop(columns=\"RainTomorrow\").values, dtype=torch.float) # TV numbers\n",
        "y_data = torch.tensor(data[\"RainTomorrow\"].values, dtype=torch.float) # Sales\n",
        "y_data = y_data.reshape(-1, 1)\n",
        "print(x_data.shape, y_data.shape)"
      ],
      "metadata": {
        "colab": {
          "base_uri": "https://localhost:8080/"
        },
        "id": "Irp2MwrZBOql",
        "outputId": "5f9155f4-742d-4370-eac4-3c27fe8da978"
      },
      "execution_count": null,
      "outputs": [
        {
          "output_type": "stream",
          "name": "stdout",
          "text": [
            "torch.Size([28860, 15]) torch.Size([28860, 1])\n"
          ]
        }
      ]
    },
    {
      "cell_type": "code",
      "source": [
        "class LogisticRegression(torch.nn.Module):\n",
        "  def __init__(self):\n",
        "      super().__init__()\n",
        "\n",
        "      self.linear = torch.nn.Linear(15, 1)\n",
        "      self.sigmoid = torch.nn.Sigmoid()\n",
        "\n",
        "  def forward(self, x):\n",
        "      linearResult = self.linear(x)\n",
        "      # print(x)\n",
        "      # print(linearResult)\n",
        "      # print(self.sigmoid(linearResult))\n",
        "      return self.sigmoid(linearResult)\n",
        "\n",
        "model = LogisticRegression()\n",
        "model(x_data[100:105])"
      ],
      "metadata": {
        "id": "MI2OWVebFhlu",
        "colab": {
          "base_uri": "https://localhost:8080/"
        },
        "outputId": "237db7b3-8ed4-4111-bedc-5b12a6f4028c"
      },
      "execution_count": null,
      "outputs": [
        {
          "output_type": "execute_result",
          "data": {
            "text/plain": [
              "tensor([[0.6295],\n",
              "        [0.5594],\n",
              "        [0.5053],\n",
              "        [0.4920],\n",
              "        [0.5517]], grad_fn=<SigmoidBackward0>)"
            ]
          },
          "metadata": {},
          "execution_count": 37
        }
      ]
    },
    {
      "cell_type": "code",
      "source": [
        "# def lossfn(y_predictions, y_true):\n",
        "\n",
        "#   return (y_predictions-y_true).pow(2).sum()\n",
        "\n",
        "lossfn = torch.nn.BCELoss()\n",
        "\n",
        "result = model(x_data[:5])\n",
        "print(x_data[:5])\n",
        "print(result)\n",
        "print(y_data[:5])\n",
        "\n",
        "def getPredictions(prob):\n",
        "  bools = prob>0.5\n",
        "  return bools.float()\n",
        "\n",
        "\n",
        "print(getPredictions(result))\n",
        "print(getPredictions(result).eq(y_data[:5]).sum())"
      ],
      "metadata": {
        "id": "x28xD_lXrUQi",
        "colab": {
          "base_uri": "https://localhost:8080/"
        },
        "outputId": "8395055d-e9c8-421e-89cf-ed762fcc67c6"
      },
      "execution_count": null,
      "outputs": [
        {
          "output_type": "stream",
          "name": "stdout",
          "text": [
            "tensor([[-7.9572e-02, -6.4493e-01, -3.0479e-01,  6.0459e-01, -1.1964e-01,\n",
            "          2.1144e+00,  4.0713e+00,  1.8270e+00,  5.3910e-01, -7.7482e-04,\n",
            "         -2.1525e+00, -1.7126e+00, -5.4720e-01, -5.4145e-01,  0.0000e+00],\n",
            "        [-5.4742e-01, -3.1682e-01, -3.0479e-01,  2.2795e-01, -8.8770e-01,\n",
            "          5.5129e-01, -9.3577e-01,  1.0027e+00,  1.6509e+00,  3.4412e-01,\n",
            "         -2.2272e-01, -1.8298e-01, -5.0165e-01, -2.2125e-01,  0.0000e+00],\n",
            "        [ 4.0388e-01,  4.1074e-01, -3.0479e-01, -3.1011e-01, -1.9206e+00,\n",
            "         -2.6749e-01,  2.2866e-01,  6.0510e-02,  5.3910e-01,  1.5759e+00,\n",
            "         -1.2302e+00, -1.4410e+00,  5.4600e-01, -9.0257e-02,  0.0000e+00],\n",
            "        [ 6.0784e-02, -6.4493e-01, -2.1611e-01,  8.7361e-01,  6.5757e-02,\n",
            "          3.0251e-02, -2.3711e-01,  1.2382e+00,  2.7440e-01, -7.7482e-04,\n",
            "         -1.1876e+00, -8.1197e-01, -2.1317e-01, -5.7056e-01,  0.0000e+00],\n",
            "        [ 1.3999e-02, -3.4535e-01, -3.0479e-01, -1.2248e+00, -8.3473e-01,\n",
            "         -1.1862e-01, -7.0288e-01, -7.6387e-01, -4.3240e-02,  1.0832e+00,\n",
            "         -2.0853e-01, -2.5446e-01, -2.4353e-01, -1.9214e-01,  0.0000e+00]])\n",
            "tensor([[0.5923],\n",
            "        [0.5157],\n",
            "        [0.6081],\n",
            "        [0.4325],\n",
            "        [0.6285]], grad_fn=<SigmoidBackward0>)\n",
            "tensor([[1.],\n",
            "        [1.],\n",
            "        [1.],\n",
            "        [0.],\n",
            "        [1.]])\n",
            "tensor([[1.],\n",
            "        [1.],\n",
            "        [1.],\n",
            "        [0.],\n",
            "        [1.]])\n",
            "tensor(5)\n"
          ]
        }
      ]
    },
    {
      "cell_type": "code",
      "source": [
        "optimizer = torch.optim.Adam(model.parameters(), lr=0.001)"
      ],
      "metadata": {
        "id": "fniLa3CstEOq"
      },
      "execution_count": null,
      "outputs": []
    },
    {
      "cell_type": "code",
      "source": [
        "loss_history = []\n",
        "\n",
        "for i in range(10000):\n",
        "\n",
        "  optimizer.zero_grad()\n",
        "\n",
        "  predicted_y = model(x_data)\n",
        "\n",
        "  current_loss = lossfn(predicted_y, y_data)\n",
        "\n",
        "  current_loss.backward()\n",
        "\n",
        "  optimizer.step()\n",
        "\n",
        "  accuracy = getPredictions(predicted_y).eq(y_data).sum()/y_data.shape[0]*100\n",
        "\n",
        "  loss_history.append(current_loss.item())\n",
        "  if i % 100 == 0:\n",
        "    print(f'epoch: {i}, current loss: {current_loss.item()} accuracy: {accuracy}%')\n",
        "\n",
        "plt.plot(loss_history)"
      ],
      "metadata": {
        "id": "qan4avOqthck",
        "colab": {
          "base_uri": "https://localhost:8080/",
          "height": 1000
        },
        "outputId": "2cde899b-42b7-4d42-f4a2-bfd4d1910796"
      },
      "execution_count": null,
      "outputs": [
        {
          "output_type": "stream",
          "name": "stdout",
          "text": [
            "epoch: 0, current loss: 0.711769163608551 accuracy: 49.41788101196289%\n",
            "epoch: 100, current loss: 0.5818712711334229 accuracy: 73.07345581054688%\n",
            "epoch: 200, current loss: 0.5239724516868591 accuracy: 76.76715087890625%\n",
            "epoch: 300, current loss: 0.4946465790271759 accuracy: 77.6957778930664%\n",
            "epoch: 400, current loss: 0.4778488576412201 accuracy: 78.26749420166016%\n",
            "epoch: 500, current loss: 0.4672994315624237 accuracy: 78.51004791259766%\n",
            "epoch: 600, current loss: 0.4602181017398834 accuracy: 78.83576202392578%\n",
            "epoch: 700, current loss: 0.45520541071891785 accuracy: 78.99861145019531%\n",
            "epoch: 800, current loss: 0.4514903724193573 accuracy: 79.14067840576172%\n",
            "epoch: 900, current loss: 0.44862422347068787 accuracy: 79.23770141601562%\n",
            "epoch: 1000, current loss: 0.446336030960083 accuracy: 79.33125305175781%\n",
            "epoch: 1100, current loss: 0.4444570541381836 accuracy: 79.40402221679688%\n",
            "epoch: 1200, current loss: 0.4428792893886566 accuracy: 79.42134857177734%\n",
            "epoch: 1300, current loss: 0.441531240940094 accuracy: 79.4871826171875%\n",
            "epoch: 1400, current loss: 0.4403637647628784 accuracy: 79.50797271728516%\n",
            "epoch: 1500, current loss: 0.4393416941165924 accuracy: 79.5218276977539%\n",
            "epoch: 1600, current loss: 0.4384390115737915 accuracy: 79.5252914428711%\n",
            "epoch: 1700, current loss: 0.4376354217529297 accuracy: 79.56340789794922%\n",
            "epoch: 1800, current loss: 0.43691542744636536 accuracy: 79.61885070800781%\n",
            "epoch: 1900, current loss: 0.43626636266708374 accuracy: 79.57380676269531%\n",
            "epoch: 2000, current loss: 0.43567827343940735 accuracy: 79.62577819824219%\n",
            "epoch: 2100, current loss: 0.4351430833339691 accuracy: 79.68122100830078%\n",
            "epoch: 2200, current loss: 0.4346542954444885 accuracy: 79.74359130859375%\n",
            "epoch: 2300, current loss: 0.43420663475990295 accuracy: 79.75398254394531%\n",
            "epoch: 2400, current loss: 0.4337957501411438 accuracy: 79.79556274414062%\n",
            "epoch: 2500, current loss: 0.43341803550720215 accuracy: 79.79903411865234%\n",
            "epoch: 2600, current loss: 0.4330703914165497 accuracy: 79.78863525390625%\n",
            "epoch: 2700, current loss: 0.4327501654624939 accuracy: 79.78170776367188%\n",
            "epoch: 2800, current loss: 0.43245503306388855 accuracy: 79.81635284423828%\n",
            "epoch: 2900, current loss: 0.43218302726745605 accuracy: 79.83367919921875%\n",
            "epoch: 3000, current loss: 0.4319322407245636 accuracy: 79.8544692993164%\n",
            "epoch: 3100, current loss: 0.43170106410980225 accuracy: 79.88912200927734%\n",
            "epoch: 3200, current loss: 0.4314880073070526 accuracy: 79.8648681640625%\n",
            "epoch: 3300, current loss: 0.43129175901412964 accuracy: 79.83367919921875%\n",
            "epoch: 3400, current loss: 0.43111106753349304 accuracy: 79.8648681640625%\n",
            "epoch: 3500, current loss: 0.43094491958618164 accuracy: 79.92030334472656%\n",
            "epoch: 3600, current loss: 0.43079236149787903 accuracy: 79.87872314453125%\n",
            "epoch: 3700, current loss: 0.4306524991989136 accuracy: 79.87179565429688%\n",
            "epoch: 3800, current loss: 0.43052446842193604 accuracy: 79.88912200927734%\n",
            "epoch: 3900, current loss: 0.4304076135158539 accuracy: 79.91337585449219%\n",
            "epoch: 4000, current loss: 0.4303012192249298 accuracy: 79.94456481933594%\n",
            "epoch: 4100, current loss: 0.4302046597003937 accuracy: 79.94802856445312%\n",
            "epoch: 4200, current loss: 0.4301173686981201 accuracy: 79.96534729003906%\n",
            "epoch: 4300, current loss: 0.4300386905670166 accuracy: 79.97228240966797%\n",
            "epoch: 4400, current loss: 0.4299681484699249 accuracy: 79.99307250976562%\n",
            "epoch: 4500, current loss: 0.4299051761627197 accuracy: 79.98613739013672%\n",
            "epoch: 4600, current loss: 0.42984920740127563 accuracy: 79.98267364501953%\n",
            "epoch: 4700, current loss: 0.42979976534843445 accuracy: 79.97573852539062%\n",
            "epoch: 4800, current loss: 0.42975640296936035 accuracy: 79.94802856445312%\n",
            "epoch: 4900, current loss: 0.4297184646129608 accuracy: 79.93762969970703%\n",
            "epoch: 5000, current loss: 0.4296855628490448 accuracy: 79.93070220947266%\n",
            "epoch: 5100, current loss: 0.4296572208404541 accuracy: 79.94456481933594%\n",
            "epoch: 5200, current loss: 0.4296329915523529 accuracy: 79.93416595458984%\n",
            "epoch: 5300, current loss: 0.4296124279499054 accuracy: 79.93762969970703%\n",
            "epoch: 5400, current loss: 0.42959505319595337 accuracy: 79.94109344482422%\n",
            "epoch: 5500, current loss: 0.4295806288719177 accuracy: 79.94109344482422%\n",
            "epoch: 5600, current loss: 0.4295686185359955 accuracy: 79.93070220947266%\n",
            "epoch: 5700, current loss: 0.42955878376960754 accuracy: 79.92723846435547%\n",
            "epoch: 5800, current loss: 0.42955082654953003 accuracy: 79.93416595458984%\n",
            "epoch: 5900, current loss: 0.4295443594455719 accuracy: 79.94109344482422%\n",
            "epoch: 6000, current loss: 0.4295392334461212 accuracy: 79.96534729003906%\n",
            "epoch: 6100, current loss: 0.4295351505279541 accuracy: 79.97228240966797%\n",
            "epoch: 6200, current loss: 0.429531991481781 accuracy: 79.95494842529297%\n",
            "epoch: 6300, current loss: 0.4295295774936676 accuracy: 79.95149230957031%\n",
            "epoch: 6400, current loss: 0.42952772974967957 accuracy: 79.94456481933594%\n",
            "epoch: 6500, current loss: 0.42952629923820496 accuracy: 79.94456481933594%\n",
            "epoch: 6600, current loss: 0.429525226354599 accuracy: 79.93762969970703%\n",
            "epoch: 6700, current loss: 0.4295244812965393 accuracy: 79.94109344482422%\n",
            "epoch: 6800, current loss: 0.42952385544776917 accuracy: 79.93762969970703%\n",
            "epoch: 6900, current loss: 0.4295234680175781 accuracy: 79.93070220947266%\n",
            "epoch: 7000, current loss: 0.42952316999435425 accuracy: 79.93416595458984%\n",
            "epoch: 7100, current loss: 0.4295229911804199 accuracy: 79.93416595458984%\n",
            "epoch: 7200, current loss: 0.4295228123664856 accuracy: 79.93416595458984%\n",
            "epoch: 7300, current loss: 0.4295227527618408 accuracy: 79.93762969970703%\n",
            "epoch: 7400, current loss: 0.42952272295951843 accuracy: 79.94109344482422%\n",
            "epoch: 7500, current loss: 0.42952263355255127 accuracy: 79.93762969970703%\n",
            "epoch: 7600, current loss: 0.4295225739479065 accuracy: 79.94109344482422%\n",
            "epoch: 7700, current loss: 0.4295226037502289 accuracy: 79.94109344482422%\n",
            "epoch: 7800, current loss: 0.4295225739479065 accuracy: 79.94109344482422%\n",
            "epoch: 7900, current loss: 0.4295225739479065 accuracy: 79.94802856445312%\n",
            "epoch: 8000, current loss: 0.4295225739479065 accuracy: 79.94802856445312%\n",
            "epoch: 8100, current loss: 0.4295225739479065 accuracy: 79.94802856445312%\n",
            "epoch: 8200, current loss: 0.4295226037502289 accuracy: 79.94802856445312%\n",
            "epoch: 8300, current loss: 0.4295225739479065 accuracy: 79.94802856445312%\n",
            "epoch: 8400, current loss: 0.4295225739479065 accuracy: 79.94802856445312%\n",
            "epoch: 8500, current loss: 0.4295225739479065 accuracy: 79.94802856445312%\n",
            "epoch: 8600, current loss: 0.4295225441455841 accuracy: 79.94456481933594%\n",
            "epoch: 8700, current loss: 0.4295225441455841 accuracy: 79.94456481933594%\n",
            "epoch: 8800, current loss: 0.4295225739479065 accuracy: 79.94456481933594%\n",
            "epoch: 8900, current loss: 0.4295225739479065 accuracy: 79.94456481933594%\n",
            "epoch: 9000, current loss: 0.4295225739479065 accuracy: 79.94456481933594%\n",
            "epoch: 9100, current loss: 0.4295225739479065 accuracy: 79.94456481933594%\n",
            "epoch: 9200, current loss: 0.4295225739479065 accuracy: 79.94456481933594%\n",
            "epoch: 9300, current loss: 0.4295225739479065 accuracy: 79.94456481933594%\n",
            "epoch: 9400, current loss: 0.4295225739479065 accuracy: 79.94456481933594%\n",
            "epoch: 9500, current loss: 0.4295225739479065 accuracy: 79.94456481933594%\n",
            "epoch: 9600, current loss: 0.4295225739479065 accuracy: 79.94456481933594%\n",
            "epoch: 9700, current loss: 0.4295225739479065 accuracy: 79.94456481933594%\n",
            "epoch: 9800, current loss: 0.4295225739479065 accuracy: 79.94456481933594%\n",
            "epoch: 9900, current loss: 0.4295225739479065 accuracy: 79.94456481933594%\n"
          ]
        },
        {
          "output_type": "execute_result",
          "data": {
            "text/plain": [
              "[<matplotlib.lines.Line2D at 0x7f7e707d38d0>]"
            ]
          },
          "metadata": {},
          "execution_count": 40
        },
        {
          "output_type": "display_data",
          "data": {
            "text/plain": [
              "<Figure size 432x288 with 1 Axes>"
            ],
            "image/png": "[encoded data removed]"
          },
          "metadata": {
            "needs_background": "light"
          }
        }
      ]
    },
    {
      "cell_type": "code",
      "source": [
        "probability_y = model(x_data)\n",
        "binary_y = getPredictions(probability_y)\n",
        "cm = metrics.confusion_matrix(y_data, binary_y)\n",
        "print(binary_y)\n",
        "print(cm)\n",
        "cmd = metrics.ConfusionMatrixDisplay(cm)\n",
        "cmd.plot()"
      ],
      "metadata": {
        "id": "q8Vfz7vUxEoP",
        "colab": {
          "base_uri": "https://localhost:8080/",
          "height": 458
        },
        "outputId": "c5706cc1-09d3-4446-fd0b-f7c5e33a0eb3"
      },
      "execution_count": null,
      "outputs": [
        {
          "output_type": "stream",
          "name": "stdout",
          "text": [
            "tensor([[1.],\n",
            "        [1.],\n",
            "        [1.],\n",
            "        ...,\n",
            "        [1.],\n",
            "        [1.],\n",
            "        [0.]])\n",
            "[[11757  2673]\n",
            " [ 3115 11315]]\n"
          ]
        },
        {
          "output_type": "execute_result",
          "data": {
            "text/plain": [
              "<sklearn.metrics._plot.confusion_matrix.ConfusionMatrixDisplay at 0x7f7e6ffe7210>"
            ]
          },
          "metadata": {},
          "execution_count": 41
        },
        {
          "output_type": "display_data",
          "data": {
            "text/plain": [
              "<Figure size 432x288 with 2 Axes>"
            ],
            "image/png": "[encoded data removed]"
          },
          "metadata": {
            "needs_background": "light"
          }
        }
      ]
    }
  ]
}