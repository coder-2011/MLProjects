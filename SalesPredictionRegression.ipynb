{
  "nbformat": 4,
  "nbformat_minor": 0,
  "metadata": {
    "colab": {
      "provenance": [],
      "authorship_tag": "ABX9TyOwFCR4RspGgq+yHQAjK84o",
      "include_colab_link": true
    },
    "kernelspec": {
      "name": "python3",
      "display_name": "Python 3"
    },
    "language_info": {
      "name": "python"
    }
  },
  "cells": [
    {
      "cell_type": "markdown",
      "metadata": {
        "id": "view-in-github",
        "colab_type": "text"
      },
      "source": [
        "<a href=\"https://colab.research.google.com/github/coder-2011/MLProjects/blob/main/SalesPredictionRegression.ipynb\" target=\"_parent\"><img src=\"https://colab.research.google.com/assets/colab-badge.svg\" alt=\"Open In Colab\"/></a>"
      ]
    },
    {
      "cell_type": "code",
      "execution_count": null,
      "metadata": {
        "id": "C773cEHXB6hX"
      },
      "outputs": [],
      "source": [
        "import numpy as np\n",
        "import torch\n",
        "import matplotlib.pyplot as plt\n",
        "import pandas as pd\n",
        "\n"
      ]
    },
    {
      "cell_type": "code",
      "source": [
        "\n",
        "data_url = \"https://raw.githubusercontent.com/BreakoutMentors/Data-Science-and-Machine-Learning/main/datasets/Advertising.csv\"\n",
        "data = pd.read_csv(data_url)\n",
        "print(data.columns)\n",
        "plt.scatter(data[\"tv\"], data[\"sales\"])\n",
        "\n",
        "x_data = torch.tensor(data[[\"tv\", \"online\", \"newspaper\"]].values, dtype=torch.float) # TV numbers\n",
        "y_data = torch.tensor(data[\"sales\"], dtype=torch.float) # Sales\n",
        "y_data = y_data.reshape(-1, 1)\n",
        "print(x_data.shape, y_data.shape)"
      ],
      "metadata": {
        "colab": {
          "base_uri": "https://localhost:8080/",
          "height": 301
        },
        "id": "UFxEZ24uCy_E",
        "outputId": "58661b7b-1891-46e4-8d70-25fd01719749"
      },
      "execution_count": null,
      "outputs": [
        {
          "output_type": "stream",
          "name": "stdout",
          "text": [
            "Index(['tv', 'online', 'newspaper', 'sales'], dtype='object')\n",
            "torch.Size([200, 3]) torch.Size([200, 1])\n"
          ]
        },
        {
          "output_type": "display_data",
          "data": {
            "text/plain": [
              "<Figure size 432x288 with 1 Axes>"
            ],
            "image/png": "[encoded data removed]"
          },
          "metadata": {
            "needs_background": "light"
          }
        }
      ]
    },
    {
      "cell_type": "code",
      "source": [
        "class LinearRegression(torch.nn.Module):\n",
        "  def __init__(self):\n",
        "      super().__init__()\n",
        "      # self.w = torch.randn([3, 1], requires_grad=True)\n",
        "      # self.b = torch.randn(1, requires_grad=True)\n",
        "      self.linear = torch.nn.Linear(3, 1)\n",
        "\n",
        "  def forward(self, x):\n",
        "      return self.linear(x)\n",
        "      # return torch.matmul(x, self.w) + self.b\n",
        "\n",
        "model = LinearRegression()"
      ],
      "metadata": {
        "id": "MI2OWVebFhlu"
      },
      "execution_count": null,
      "outputs": []
    },
    {
      "cell_type": "code",
      "source": [
        "print(x_data[:5])\n",
        "print(model(x_data[:5]))\n",
        "print(y_data[:5])"
      ],
      "metadata": {
        "colab": {
          "base_uri": "https://localhost:8080/"
        },
        "id": "fcCa6psSJZ6h",
        "outputId": "54ef551f-250d-4c8a-b1ea-40bee0164a40"
      },
      "execution_count": null,
      "outputs": [
        {
          "output_type": "stream",
          "name": "stdout",
          "text": [
            "tensor([[230.1000,  37.8000,  69.2000],\n",
            "        [ 44.5000,  39.3000,  45.1000],\n",
            "        [ 17.2000,  45.9000,  69.3000],\n",
            "        [151.5000,  41.3000,  58.5000],\n",
            "        [180.8000,  10.8000,  58.4000]])\n",
            "tensor([[42.3610],\n",
            "        [22.4104],\n",
            "        [34.1861],\n",
            "        [33.3380],\n",
            "        [37.4961]], grad_fn=<AddmmBackward0>)\n",
            "tensor([[22.1000],\n",
            "        [10.4000],\n",
            "        [ 9.3000],\n",
            "        [18.5000],\n",
            "        [12.9000]])\n"
          ]
        }
      ]
    },
    {
      "cell_type": "code",
      "source": [
        "def lossfn(y_predictions, y_true):\n",
        "\n",
        "  return (y_predictions-y_true).pow(2).sum()\n",
        "\n",
        "lossfn(model(x_data[:5]), y_data[:5])"
      ],
      "metadata": {
        "colab": {
          "base_uri": "https://localhost:8080/"
        },
        "id": "x28xD_lXrUQi",
        "outputId": "b2b06433-7408-46fd-c329-6d2cfc7bfd41"
      },
      "execution_count": null,
      "outputs": [
        {
          "output_type": "execute_result",
          "data": {
            "text/plain": [
              "tensor(1999.2076, grad_fn=<SumBackward0>)"
            ]
          },
          "metadata": {},
          "execution_count": 5
        }
      ]
    },
    {
      "cell_type": "code",
      "source": [
        "optimizer = torch.optim.Adam(model.parameters(), lr=0.001)"
      ],
      "metadata": {
        "id": "fniLa3CstEOq"
      },
      "execution_count": null,
      "outputs": []
    },
    {
      "cell_type": "code",
      "source": [
        "loss_history = []\n",
        "\n",
        "for i in range(10000):\n",
        "\n",
        "  optimizer.zero_grad()\n",
        "\n",
        "  predicted_y = model(x_data)\n",
        "\n",
        "  current_loss = lossfn(predicted_y, y_data)\n",
        "\n",
        "  current_loss.backward()\n",
        "\n",
        "  optimizer.step()\n",
        "  loss_history.append(current_loss.item())\n",
        "  if i % 100 == 0:\n",
        "    print(f'epoch: {i}, current loss: {current_loss.item()}')\n",
        "\n",
        "plt.plot(loss_history)"
      ],
      "metadata": {
        "colab": {
          "base_uri": "https://localhost:8080/",
          "height": 1000
        },
        "id": "qan4avOqthck",
        "outputId": "96010774-7f25-44ef-9d4d-ce078b9658bd"
      },
      "execution_count": null,
      "outputs": [
        {
          "output_type": "stream",
          "name": "stdout",
          "text": [
            "epoch: 0, current loss: 32214.1875\n",
            "epoch: 100, current loss: 19465.234375\n",
            "epoch: 200, current loss: 13516.150390625\n",
            "epoch: 300, current loss: 9120.4736328125\n",
            "epoch: 400, current loss: 5984.224609375\n",
            "epoch: 500, current loss: 3870.966064453125\n",
            "epoch: 600, current loss: 2526.16650390625\n",
            "epoch: 700, current loss: 1718.3013916015625\n",
            "epoch: 800, current loss: 1260.0523681640625\n",
            "epoch: 900, current loss: 1013.6360473632812\n",
            "epoch: 1000, current loss: 886.42578125\n",
            "epoch: 1100, current loss: 821.44970703125\n",
            "epoch: 1200, current loss: 786.6407470703125\n",
            "epoch: 1300, current loss: 765.478515625\n",
            "epoch: 1400, current loss: 750.1729736328125\n",
            "epoch: 1500, current loss: 737.3616333007812\n",
            "epoch: 1600, current loss: 725.7162475585938\n",
            "epoch: 1700, current loss: 714.755615234375\n",
            "epoch: 1800, current loss: 704.3186645507812\n",
            "epoch: 1900, current loss: 694.3532104492188\n",
            "epoch: 2000, current loss: 684.8402099609375\n",
            "epoch: 2100, current loss: 675.769775390625\n",
            "epoch: 2200, current loss: 667.1332397460938\n",
            "epoch: 2300, current loss: 658.9222412109375\n",
            "epoch: 2400, current loss: 651.1281127929688\n",
            "epoch: 2500, current loss: 643.7413330078125\n",
            "epoch: 2600, current loss: 636.7525634765625\n",
            "epoch: 2700, current loss: 630.1521606445312\n",
            "epoch: 2800, current loss: 623.93017578125\n",
            "epoch: 2900, current loss: 618.0759887695312\n",
            "epoch: 3000, current loss: 612.5794677734375\n",
            "epoch: 3100, current loss: 607.429931640625\n",
            "epoch: 3200, current loss: 602.61669921875\n",
            "epoch: 3300, current loss: 598.1287231445312\n",
            "epoch: 3400, current loss: 593.9548950195312\n",
            "epoch: 3500, current loss: 590.0839233398438\n",
            "epoch: 3600, current loss: 586.504638671875\n",
            "epoch: 3700, current loss: 583.2052612304688\n",
            "epoch: 3800, current loss: 580.1740112304688\n",
            "epoch: 3900, current loss: 577.3993530273438\n",
            "epoch: 4000, current loss: 574.8690185546875\n",
            "epoch: 4100, current loss: 572.5711059570312\n",
            "epoch: 4200, current loss: 570.4931030273438\n",
            "epoch: 4300, current loss: 568.6231079101562\n",
            "epoch: 4400, current loss: 566.9482421875\n",
            "epoch: 4500, current loss: 565.4566040039062\n",
            "epoch: 4600, current loss: 564.135498046875\n",
            "epoch: 4700, current loss: 562.9727172851562\n",
            "epoch: 4800, current loss: 561.9559326171875\n",
            "epoch: 4900, current loss: 561.0731811523438\n",
            "epoch: 5000, current loss: 560.3125\n",
            "epoch: 5100, current loss: 559.6620483398438\n",
            "epoch: 5200, current loss: 559.111083984375\n",
            "epoch: 5300, current loss: 558.6483764648438\n",
            "epoch: 5400, current loss: 558.263671875\n",
            "epoch: 5500, current loss: 557.9473266601562\n",
            "epoch: 5600, current loss: 557.6897583007812\n",
            "epoch: 5700, current loss: 557.4829711914062\n",
            "epoch: 5800, current loss: 557.3187866210938\n",
            "epoch: 5900, current loss: 557.1904296875\n",
            "epoch: 6000, current loss: 557.0911865234375\n",
            "epoch: 6100, current loss: 557.015869140625\n",
            "epoch: 6200, current loss: 556.9596557617188\n",
            "epoch: 6300, current loss: 556.918212890625\n",
            "epoch: 6400, current loss: 556.8883666992188\n",
            "epoch: 6500, current loss: 556.8673095703125\n",
            "epoch: 6600, current loss: 556.8526611328125\n",
            "epoch: 6700, current loss: 556.8427734375\n",
            "epoch: 6800, current loss: 556.836181640625\n",
            "epoch: 6900, current loss: 556.8319091796875\n",
            "epoch: 7000, current loss: 556.8291625976562\n",
            "epoch: 7100, current loss: 556.8274536132812\n",
            "epoch: 7200, current loss: 556.8265380859375\n",
            "epoch: 7300, current loss: 556.825927734375\n",
            "epoch: 7400, current loss: 556.82568359375\n",
            "epoch: 7500, current loss: 556.8253784179688\n",
            "epoch: 7600, current loss: 556.8253784179688\n",
            "epoch: 7700, current loss: 556.8253173828125\n",
            "epoch: 7800, current loss: 556.8253173828125\n",
            "epoch: 7900, current loss: 556.8253173828125\n",
            "epoch: 8000, current loss: 556.8252563476562\n",
            "epoch: 8100, current loss: 556.8253784179688\n",
            "epoch: 8200, current loss: 556.8253173828125\n",
            "epoch: 8300, current loss: 556.8253173828125\n",
            "epoch: 8400, current loss: 556.8252563476562\n",
            "epoch: 8500, current loss: 556.8253173828125\n",
            "epoch: 8600, current loss: 556.8253173828125\n",
            "epoch: 8700, current loss: 556.8253173828125\n",
            "epoch: 8800, current loss: 556.8253173828125\n",
            "epoch: 8900, current loss: 556.8253784179688\n",
            "epoch: 9000, current loss: 556.8497924804688\n",
            "epoch: 9100, current loss: 556.8252563476562\n",
            "epoch: 9200, current loss: 556.8253173828125\n",
            "epoch: 9300, current loss: 556.837646484375\n",
            "epoch: 9400, current loss: 556.8252563476562\n",
            "epoch: 9500, current loss: 556.8253173828125\n",
            "epoch: 9600, current loss: 556.8255615234375\n",
            "epoch: 9700, current loss: 556.8252563476562\n",
            "epoch: 9800, current loss: 556.901123046875\n",
            "epoch: 9900, current loss: 556.8252563476562\n"
          ]
        },
        {
          "output_type": "execute_result",
          "data": {
            "text/plain": [
              "[<matplotlib.lines.Line2D at 0x7ff2e86560d0>]"
            ]
          },
          "metadata": {},
          "execution_count": 8
        },
        {
          "output_type": "display_data",
          "data": {
            "text/plain": [
              "<Figure size 432x288 with 1 Axes>"
            ],
            "image/png": "[encoded data removed]"
          },
          "metadata": {
            "needs_background": "light"
          }
        }
      ]
    },
    {
      "cell_type": "code",
      "source": [
        "print(model.w, model.b)"
      ],
      "metadata": {
        "id": "q8Vfz7vUxEoP"
      },
      "execution_count": null,
      "outputs": []
    },
    {
      "cell_type": "code",
      "source": [
        "x_test = x_data[:4]\n",
        "w = torch.randn(3, 1)\n",
        "print(x_test, w)\n",
        "print(torch.matmul(x_test, w))"
      ],
      "metadata": {
        "id": "wjM0Q2qZ3BO_"
      },
      "execution_count": null,
      "outputs": []
    },
    {
      "cell_type": "code",
      "source": [],
      "metadata": {
        "id": "zRb3TYBT3KtB"
      },
      "execution_count": null,
      "outputs": []
    }
  ]
}