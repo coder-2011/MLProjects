{
  "nbformat": 4,
  "nbformat_minor": 0,
  "metadata": {
    "colab": {
      "provenance": [],
      "authorship_tag": "ABX9TyPhpdWTPLhIhLw/1FaMvoVU",
      "include_colab_link": true
    },
    "kernelspec": {
      "name": "python3",
      "display_name": "Python 3"
    },
    "language_info": {
      "name": "python"
    }
  },
  "cells": [
    {
      "cell_type": "markdown",
      "metadata": {
        "id": "view-in-github",
        "colab_type": "text"
      },
      "source": [
        "<a href=\"https://colab.research.google.com/github/coder-2011/MLProjects/blob/main/Using_VehicleClassifier_gradio.ipynb\" target=\"_parent\"><img src=\"https://colab.research.google.com/assets/colab-badge.svg\" alt=\"Open In Colab\"/></a>"
      ]
    },
    {
      "cell_type": "code",
      "execution_count": null,
      "metadata": {
        "id": "OOED-cM06u9A"
      },
      "outputs": [],
      "source": [
        "!pip install -q gradio"
      ]
    },
    {
      "cell_type": "code",
      "source": [
        "import torch\n",
        "import torch.nn as nn\n",
        "\n",
        "from tensorflow import keras\n",
        "import tensorflow as tf\n",
        "from keras.applications.resnet50 import ResNet50, preprocess_input"
      ],
      "metadata": {
        "id": "Ul27omN49CR3"
      },
      "execution_count": null,
      "outputs": []
    },
    {
      "cell_type": "code",
      "source": [
        "import gradio as gr\n",
        "from tensorflow import keras\n",
        "\n",
        "model = keras.models.load_model('VehicleClassifier.keras')"
      ],
      "metadata": {
        "id": "VuRxHDm68yXk"
      },
      "execution_count": null,
      "outputs": []
    },
    {
      "cell_type": "code",
      "source": [
        "labels = [\"Bus\", \"Car\", \"Truck\", \"motorcycle\"]\n",
        "\n",
        "input_img = gr.inputs.Image(shape=(224, 224),\n",
        "                            image_mode='RGB',\n",
        "                            source='upload',\n",
        "                            type='pil')\n",
        "\n",
        "sample_images = [['/content/Image_100.jpg'],\n",
        "                 ['/content/Image_12.JPG'],\n",
        "                 ['/content/Image_17.jpg'],\n",
        "                 ['/content/Image_20.png'],\n",
        "                 ['/content/Image_22.jpg']]"
      ],
      "metadata": {
        "colab": {
          "base_uri": "https://localhost:8080/"
        },
        "id": "ypHm8yyz-QEI",
        "outputId": "58ab3497-0560-497c-ed40-d8f6c15f9610"
      },
      "execution_count": null,
      "outputs": [
        {
          "output_type": "stream",
          "name": "stderr",
          "text": [
            "<ipython-input-10-2073c4d98747>:3: GradioDeprecationWarning: Usage of gradio.inputs is deprecated, and will not be supported in the future, please import your component from gradio.components\n",
            "  input_img = gr.inputs.Image(shape=(224, 224),\n",
            "<ipython-input-10-2073c4d98747>:3: GradioDeprecationWarning: `optional` parameter is deprecated, and it has no effect\n",
            "  input_img = gr.inputs.Image(shape=(224, 224),\n"
          ]
        }
      ]
    },
    {
      "cell_type": "code",
      "source": [
        "output = gr.outputs.Label(num_top_classes=4)"
      ],
      "metadata": {
        "colab": {
          "base_uri": "https://localhost:8080/"
        },
        "id": "OPnILU0U_mpK",
        "outputId": "b7d1e8b9-f105-417f-80d8-2f6aaf22e7b6"
      },
      "execution_count": null,
      "outputs": [
        {
          "output_type": "stream",
          "name": "stderr",
          "text": [
            "<ipython-input-11-ab8ba3ff4a75>:1: GradioDeprecationWarning: Usage of gradio.outputs is deprecated, and will not be supported in the future, please import your components from gradio.components\n",
            "  output = gr.outputs.Label(num_top_classes=4)\n",
            "<ipython-input-11-ab8ba3ff4a75>:1: GradioUnusedKwargWarning: You have unused kwarg parameters in Label, please remove them: {'type': 'auto'}\n",
            "  output = gr.outputs.Label(num_top_classes=4)\n"
          ]
        }
      ]
    },
    {
      "cell_type": "code",
      "source": [
        "def classify_image(img):\n",
        "    img = preprocess_input(img).unsqueeze(0)\n",
        "    res_model = model(img)\n",
        "    return {labels[i]:res_model[i] for i in range(len(labels))}\n"
      ],
      "metadata": {
        "id": "M3YvXzqjAMBG"
      },
      "execution_count": null,
      "outputs": []
    },
    {
      "cell_type": "code",
      "source": [
        "\n",
        "\n",
        "iface = gr.Interface(fn=classify_image,\n",
        "                     inputs=input_img,\n",
        "                     outputs=output,\n",
        "                     examples=sample_images)\n",
        "\n",
        "iface.launch()"
      ],
      "metadata": {
        "colab": {
          "base_uri": "https://localhost:8080/",
          "height": 616
        },
        "id": "OiP1EyxFCIr3",
        "outputId": "be8e909e-c4af-41e1-b99a-15ebf6cf956b"
      },
      "execution_count": null,
      "outputs": [
        {
          "output_type": "stream",
          "name": "stdout",
          "text": [
            "Colab notebook detected. To show errors in colab notebook, set debug=True in launch()\n",
            "Note: opening Chrome Inspector may crash demo inside Colab notebooks.\n",
            "\n",
            "To create a public link, set `share=True` in `launch()`.\n"
          ]
        },
        {
          "output_type": "display_data",
          "data": {
            "text/plain": [
              "<IPython.core.display.Javascript object>"
            ],
            "application/javascript": [
              "(async (port, path, width, height, cache, element) => {\n",
              "                        if (!google.colab.kernel.accessAllowed && !cache) {\n",
              "                            return;\n",
              "                        }\n",
              "                        element.appendChild(document.createTextNode(''));\n",
              "                        const url = await google.colab.kernel.proxyPort(port, {cache});\n",
              "\n",
              "                        const external_link = document.createElement('div');\n",
              "                        external_link.innerHTML = `\n",
              "                            <div style=\"font-family: monospace; margin-bottom: 0.5rem\">\n",
              "                                Running on <a href=${new URL(path, url).toString()} target=\"_blank\">\n",
              "                                    https://localhost:${port}${path}\n",
              "                                </a>\n",
              "                            </div>\n",
              "                        `;\n",
              "                        element.appendChild(external_link);\n",
              "\n",
              "                        const iframe = document.createElement('iframe');\n",
              "                        iframe.src = new URL(path, url).toString();\n",
              "                        iframe.height = height;\n",
              "                        iframe.allow = \"autoplay; camera; microphone; clipboard-read; clipboard-write;\"\n",
              "                        iframe.width = width;\n",
              "                        iframe.style.border = 0;\n",
              "                        element.appendChild(iframe);\n",
              "                    })(7860, \"/\", \"100%\", 500, false, window.element)"
            ]
          },
          "metadata": {}
        },
        {
          "output_type": "execute_result",
          "data": {
            "text/plain": []
          },
          "metadata": {},
          "execution_count": 13
        }
      ]
    }
  ]
}