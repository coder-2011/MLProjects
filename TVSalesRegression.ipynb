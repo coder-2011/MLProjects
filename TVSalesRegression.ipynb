{
  "nbformat": 4,
  "nbformat_minor": 0,
  "metadata": {
    "colab": {
      "provenance": [],
      "authorship_tag": "ABX9TyNmHGCqIGM6Iqa1DYR5pAMB",
      "include_colab_link": true
    },
    "kernelspec": {
      "name": "python3",
      "display_name": "Python 3"
    },
    "language_info": {
      "name": "python"
    }
  },
  "cells": [
    {
      "cell_type": "markdown",
      "metadata": {
        "id": "view-in-github",
        "colab_type": "text"
      },
      "source": [
        "<a href=\"https://colab.research.google.com/github/coder-2011/MLProjects/blob/main/TVSalesRegression.ipynb\" target=\"_parent\"><img src=\"https://colab.research.google.com/assets/colab-badge.svg\" alt=\"Open In Colab\"/></a>"
      ]
    },
    {
      "cell_type": "code",
      "execution_count": null,
      "metadata": {
        "id": "C773cEHXB6hX"
      },
      "outputs": [],
      "source": [
        "import numpy as np\n",
        "import torch\n",
        "import matplotlib.pyplot as plt\n",
        "import pandas as pd\n",
        "\n"
      ]
    },
    {
      "cell_type": "code",
      "source": [
        "\n",
        "data_url = \"https://raw.githubusercontent.com/BreakoutMentors/Data-Science-and-Machine-Learning/main/datasets/Advertising.csv\"\n",
        "data = pd.read_csv(data_url)\n",
        "print(data.columns)\n",
        "plt.scatter(data[\"tv\"], data[\"sales\"])\n",
        "\n",
        "x_data = torch.tensor(data[\"tv\"], dtype=torch.float) #TV numbers\n",
        "y_data = torch.tensor(data[\"sales\"], dtype=torch.float) # Sales"
      ],
      "metadata": {
        "colab": {
          "base_uri": "https://localhost:8080/",
          "height": 283
        },
        "id": "UFxEZ24uCy_E",
        "outputId": "93fb29c5-ef0d-4205-a1c5-842c1ae63177"
      },
      "execution_count": null,
      "outputs": [
        {
          "output_type": "stream",
          "name": "stdout",
          "text": [
            "Index(['tv', 'online', 'newspaper', 'sales'], dtype='object')\n"
          ]
        },
        {
          "output_type": "display_data",
          "data": {
            "text/plain": [
              "<Figure size 432x288 with 1 Axes>"
            ],
            "image/png": "[encoded data removed]"
          },
          "metadata": {
            "needs_background": "light"
          }
        }
      ]
    },
    {
      "cell_type": "code",
      "source": [
        "class LinearRegression(torch.nn.Module):\n",
        "  def __init__(self):\n",
        "      super().__init__()\n",
        "      self.m = torch.randn(1, requires_grad=True)\n",
        "      self.b = torch.randn(1, requires_grad=True)\n",
        "\n",
        "  def forward(self, x):\n",
        "      return self.m * x + self.b\n",
        "\n",
        "model = LinearRegression()"
      ],
      "metadata": {
        "id": "MI2OWVebFhlu"
      },
      "execution_count": null,
      "outputs": []
    },
    {
      "cell_type": "code",
      "source": [
        "print(x_data[:5])\n",
        "print(model(x_data[:5]))\n",
        "print(y_data[:5])"
      ],
      "metadata": {
        "colab": {
          "base_uri": "https://localhost:8080/"
        },
        "id": "fcCa6psSJZ6h",
        "outputId": "8f5e78f3-6ab3-4e0f-a20d-0074b2a9e760"
      },
      "execution_count": null,
      "outputs": [
        {
          "output_type": "stream",
          "name": "stdout",
          "text": [
            "tensor([230.1000,  44.5000,  17.2000, 151.5000, 180.8000])\n",
            "tensor([-90.4946, -17.2723,  -6.5020, -59.4856, -71.0449],\n",
            "       grad_fn=<AddBackward0>)\n",
            "tensor([22.1000, 10.4000,  9.3000, 18.5000, 12.9000])\n"
          ]
        }
      ]
    },
    {
      "cell_type": "code",
      "source": [
        "def lossfn(y_predictions, y_true):\n",
        "\n",
        "  return (y_predictions-y_true).pow(2).sum()\n",
        "\n",
        "lossfn(model(x_data[:5]), y_data[:5])"
      ],
      "metadata": {
        "colab": {
          "base_uri": "https://localhost:8080/"
        },
        "id": "x28xD_lXrUQi",
        "outputId": "f123c28e-bead-4024-e364-e13b0ec2c2b6"
      },
      "execution_count": null,
      "outputs": [
        {
          "output_type": "execute_result",
          "data": {
            "text/plain": [
              "tensor(26821.5156, grad_fn=<SumBackward0>)"
            ]
          },
          "metadata": {},
          "execution_count": 26
        }
      ]
    },
    {
      "cell_type": "code",
      "source": [
        "optimizer = torch.optim.Adam([model.m, model.b], lr=0.01)"
      ],
      "metadata": {
        "id": "fniLa3CstEOq"
      },
      "execution_count": null,
      "outputs": []
    },
    {
      "cell_type": "code",
      "source": [
        "loss_history = []\n",
        "\n",
        "for i in range(10000):\n",
        "\n",
        "  optimizer.zero_grad()\n",
        "\n",
        "  predicted_y = model(x_data)\n",
        "\n",
        "  current_loss = lossfn(predicted_y, y_data)\n",
        "\n",
        "  current_loss.backward()\n",
        "\n",
        "  optimizer.step()\n",
        "  loss_history.append(current_loss.item())\n",
        "  if i % 100 == 0:\n",
        "    print(f'epoch: {i}, current loss: {current_loss.item()}')\n",
        "\n",
        "plt.plot(loss_history)"
      ],
      "metadata": {
        "colab": {
          "base_uri": "https://localhost:8080/",
          "height": 1000
        },
        "id": "qan4avOqthck",
        "outputId": "040773b6-9321-449e-db4d-cf05f8ced783"
      },
      "execution_count": null,
      "outputs": [
        {
          "output_type": "stream",
          "name": "stdout",
          "text": [
            "epoch: 0, current loss: 2198.82568359375\n",
            "epoch: 100, current loss: 2179.6845703125\n",
            "epoch: 200, current loss: 2163.622314453125\n",
            "epoch: 300, current loss: 2150.305908203125\n",
            "epoch: 400, current loss: 2139.4072265625\n",
            "epoch: 500, current loss: 2130.60595703125\n",
            "epoch: 600, current loss: 2123.59814453125\n",
            "epoch: 700, current loss: 2118.100341796875\n",
            "epoch: 800, current loss: 2113.854248046875\n",
            "epoch: 900, current loss: 2110.62841796875\n",
            "epoch: 1000, current loss: 2108.21923828125\n",
            "epoch: 1100, current loss: 2106.45263671875\n",
            "epoch: 1200, current loss: 2105.181884765625\n",
            "epoch: 1300, current loss: 2104.286376953125\n",
            "epoch: 1400, current loss: 2103.66796875\n",
            "epoch: 1500, current loss: 2103.250244140625\n",
            "epoch: 1600, current loss: 2102.9755859375\n",
            "epoch: 1700, current loss: 2102.798583984375\n",
            "epoch: 1800, current loss: 2102.687744140625\n",
            "epoch: 1900, current loss: 2102.6201171875\n",
            "epoch: 2000, current loss: 2102.580078125\n",
            "epoch: 2100, current loss: 2102.55712890625\n",
            "epoch: 2200, current loss: 2102.54443359375\n",
            "epoch: 2300, current loss: 2102.53759765625\n",
            "epoch: 2400, current loss: 2102.533935546875\n",
            "epoch: 2500, current loss: 2102.5322265625\n",
            "epoch: 2600, current loss: 2102.531494140625\n",
            "epoch: 2700, current loss: 2102.531005859375\n",
            "epoch: 2800, current loss: 2102.53076171875\n",
            "epoch: 2900, current loss: 2102.53076171875\n",
            "epoch: 3000, current loss: 2102.53076171875\n",
            "epoch: 3100, current loss: 2102.53076171875\n",
            "epoch: 3200, current loss: 2102.53076171875\n",
            "epoch: 3300, current loss: 2102.53076171875\n",
            "epoch: 3400, current loss: 2102.53076171875\n",
            "epoch: 3500, current loss: 2102.53076171875\n",
            "epoch: 3600, current loss: 2102.53076171875\n",
            "epoch: 3700, current loss: 2102.53076171875\n",
            "epoch: 3800, current loss: 2102.53076171875\n",
            "epoch: 3900, current loss: 2102.53076171875\n",
            "epoch: 4000, current loss: 2102.530517578125\n",
            "epoch: 4100, current loss: 2102.53076171875\n",
            "epoch: 4200, current loss: 2102.530517578125\n",
            "epoch: 4300, current loss: 2102.53076171875\n",
            "epoch: 4400, current loss: 2102.53076171875\n",
            "epoch: 4500, current loss: 2102.53076171875\n",
            "epoch: 4600, current loss: 2102.53076171875\n",
            "epoch: 4700, current loss: 2102.53076171875\n",
            "epoch: 4800, current loss: 2102.53076171875\n",
            "epoch: 4900, current loss: 2102.53076171875\n",
            "epoch: 5000, current loss: 2102.53076171875\n",
            "epoch: 5100, current loss: 2102.53076171875\n",
            "epoch: 5200, current loss: 2102.53076171875\n",
            "epoch: 5300, current loss: 2102.53076171875\n",
            "epoch: 5400, current loss: 2102.53076171875\n",
            "epoch: 5500, current loss: 2102.53076171875\n",
            "epoch: 5600, current loss: 2102.53076171875\n",
            "epoch: 5700, current loss: 2102.530517578125\n",
            "epoch: 5800, current loss: 2102.531005859375\n",
            "epoch: 5900, current loss: 2102.53076171875\n",
            "epoch: 6000, current loss: 2102.53076171875\n",
            "epoch: 6100, current loss: 2102.53076171875\n",
            "epoch: 6200, current loss: 2102.53076171875\n",
            "epoch: 6300, current loss: 2102.53076171875\n",
            "epoch: 6400, current loss: 2102.53076171875\n",
            "epoch: 6500, current loss: 2102.53076171875\n",
            "epoch: 6600, current loss: 2102.53076171875\n",
            "epoch: 6700, current loss: 2102.530517578125\n",
            "epoch: 6800, current loss: 2102.530517578125\n",
            "epoch: 6900, current loss: 2102.53076171875\n",
            "epoch: 7000, current loss: 2102.53076171875\n",
            "epoch: 7100, current loss: 2102.53076171875\n",
            "epoch: 7200, current loss: 2102.53076171875\n",
            "epoch: 7300, current loss: 2102.53076171875\n",
            "epoch: 7400, current loss: 2102.53076171875\n",
            "epoch: 7500, current loss: 2102.53076171875\n",
            "epoch: 7600, current loss: 2102.53076171875\n",
            "epoch: 7700, current loss: 2102.53076171875\n",
            "epoch: 7800, current loss: 2102.53076171875\n",
            "epoch: 7900, current loss: 2102.531005859375\n",
            "epoch: 8000, current loss: 2102.53173828125\n",
            "epoch: 8100, current loss: 2102.53076171875\n",
            "epoch: 8200, current loss: 2102.531005859375\n",
            "epoch: 8300, current loss: 2102.85205078125\n",
            "epoch: 8400, current loss: 2102.53125\n",
            "epoch: 8500, current loss: 2102.53076171875\n",
            "epoch: 8600, current loss: 2102.84814453125\n",
            "epoch: 8700, current loss: 2102.53076171875\n",
            "epoch: 8800, current loss: 2102.53076171875\n",
            "epoch: 8900, current loss: 2102.53076171875\n",
            "epoch: 9000, current loss: 2102.56005859375\n",
            "epoch: 9100, current loss: 2102.53076171875\n",
            "epoch: 9200, current loss: 2102.53076171875\n",
            "epoch: 9300, current loss: 2102.768310546875\n",
            "epoch: 9400, current loss: 2102.530517578125\n",
            "epoch: 9500, current loss: 2102.530517578125\n",
            "epoch: 9600, current loss: 2106.93994140625\n",
            "epoch: 9700, current loss: 2102.531005859375\n",
            "epoch: 9800, current loss: 2102.53076171875\n",
            "epoch: 9900, current loss: 2102.534912109375\n"
          ]
        },
        {
          "output_type": "execute_result",
          "data": {
            "text/plain": [
              "[<matplotlib.lines.Line2D at 0x7fd2dec61710>]"
            ]
          },
          "metadata": {},
          "execution_count": 29
        },
        {
          "output_type": "display_data",
          "data": {
            "text/plain": [
              "<Figure size 432x288 with 1 Axes>"
            ],
            "image/png": "[encoded data removed]"
          },
          "metadata": {
            "needs_background": "light"
          }
        }
      ]
    },
    {
      "cell_type": "code",
      "source": [
        "print(model.m, model.b)"
      ],
      "metadata": {
        "colab": {
          "base_uri": "https://localhost:8080/"
        },
        "id": "q8Vfz7vUxEoP",
        "outputId": "577c0c92-a1ec-48b0-8544-ca97ed84c6e8"
      },
      "execution_count": null,
      "outputs": [
        {
          "output_type": "stream",
          "name": "stdout",
          "text": [
            "tensor([0.0475], requires_grad=True) tensor([7.0326], requires_grad=True)\n"
          ]
        }
      ]
    }
  ]
}